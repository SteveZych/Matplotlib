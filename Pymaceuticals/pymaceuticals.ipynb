{
 "cells": [
  {
   "cell_type": "code",
   "execution_count": 47,
   "id": "6949ab89",
   "metadata": {},
   "outputs": [],
   "source": [
    "#Dependencies\n",
    "import pandas as pd\n",
    "import numpy as np\n",
    "import matplotlib.pyplot as plt\n",
    "import scipy.stats as sts\n",
    "from scipy.stats import sem"
   ]
  },
  {
   "cell_type": "code",
   "execution_count": 34,
   "id": "3c81667a",
   "metadata": {},
   "outputs": [
    {
     "data": {
      "text/html": [
       "<div>\n",
       "<style scoped>\n",
       "    .dataframe tbody tr th:only-of-type {\n",
       "        vertical-align: middle;\n",
       "    }\n",
       "\n",
       "    .dataframe tbody tr th {\n",
       "        vertical-align: top;\n",
       "    }\n",
       "\n",
       "    .dataframe thead th {\n",
       "        text-align: right;\n",
       "    }\n",
       "</style>\n",
       "<table border=\"1\" class=\"dataframe\">\n",
       "  <thead>\n",
       "    <tr style=\"text-align: right;\">\n",
       "      <th></th>\n",
       "      <th>Mouse ID</th>\n",
       "      <th>Drug Regimen</th>\n",
       "      <th>Sex</th>\n",
       "      <th>Age_months</th>\n",
       "      <th>Weight (g)</th>\n",
       "    </tr>\n",
       "  </thead>\n",
       "  <tbody>\n",
       "    <tr>\n",
       "      <th>0</th>\n",
       "      <td>k403</td>\n",
       "      <td>Ramicane</td>\n",
       "      <td>Male</td>\n",
       "      <td>21</td>\n",
       "      <td>16</td>\n",
       "    </tr>\n",
       "    <tr>\n",
       "      <th>1</th>\n",
       "      <td>s185</td>\n",
       "      <td>Capomulin</td>\n",
       "      <td>Female</td>\n",
       "      <td>3</td>\n",
       "      <td>17</td>\n",
       "    </tr>\n",
       "    <tr>\n",
       "      <th>2</th>\n",
       "      <td>x401</td>\n",
       "      <td>Capomulin</td>\n",
       "      <td>Female</td>\n",
       "      <td>16</td>\n",
       "      <td>15</td>\n",
       "    </tr>\n",
       "    <tr>\n",
       "      <th>3</th>\n",
       "      <td>m601</td>\n",
       "      <td>Capomulin</td>\n",
       "      <td>Male</td>\n",
       "      <td>22</td>\n",
       "      <td>17</td>\n",
       "    </tr>\n",
       "    <tr>\n",
       "      <th>4</th>\n",
       "      <td>g791</td>\n",
       "      <td>Ramicane</td>\n",
       "      <td>Male</td>\n",
       "      <td>11</td>\n",
       "      <td>16</td>\n",
       "    </tr>\n",
       "  </tbody>\n",
       "</table>\n",
       "</div>"
      ],
      "text/plain": [
       "  Mouse ID Drug Regimen     Sex  Age_months  Weight (g)\n",
       "0     k403     Ramicane    Male          21          16\n",
       "1     s185    Capomulin  Female           3          17\n",
       "2     x401    Capomulin  Female          16          15\n",
       "3     m601    Capomulin    Male          22          17\n",
       "4     g791     Ramicane    Male          11          16"
      ]
     },
     "execution_count": 34,
     "metadata": {},
     "output_type": "execute_result"
    }
   ],
   "source": [
    "#import data\n",
    "md_df = pd.read_csv('Resources/Pymaceuticals_data_Mouse_metadata.csv')\n",
    "sr_df = pd.read_csv('Resources/Pymaceuticals_data_Study_results.csv')\n",
    "md_df.head()"
   ]
  },
  {
   "cell_type": "code",
   "execution_count": 37,
   "id": "8e45f47c",
   "metadata": {},
   "outputs": [
    {
     "data": {
      "text/html": [
       "<div>\n",
       "<style scoped>\n",
       "    .dataframe tbody tr th:only-of-type {\n",
       "        vertical-align: middle;\n",
       "    }\n",
       "\n",
       "    .dataframe tbody tr th {\n",
       "        vertical-align: top;\n",
       "    }\n",
       "\n",
       "    .dataframe thead th {\n",
       "        text-align: right;\n",
       "    }\n",
       "</style>\n",
       "<table border=\"1\" class=\"dataframe\">\n",
       "  <thead>\n",
       "    <tr style=\"text-align: right;\">\n",
       "      <th></th>\n",
       "      <th>Mouse ID</th>\n",
       "      <th>Timepoint</th>\n",
       "      <th>Tumor Volume (mm3)</th>\n",
       "      <th>Metastatic Sites</th>\n",
       "    </tr>\n",
       "  </thead>\n",
       "  <tbody>\n",
       "    <tr>\n",
       "      <th>0</th>\n",
       "      <td>b128</td>\n",
       "      <td>0</td>\n",
       "      <td>45.0</td>\n",
       "      <td>0</td>\n",
       "    </tr>\n",
       "    <tr>\n",
       "      <th>1</th>\n",
       "      <td>f932</td>\n",
       "      <td>0</td>\n",
       "      <td>45.0</td>\n",
       "      <td>0</td>\n",
       "    </tr>\n",
       "    <tr>\n",
       "      <th>2</th>\n",
       "      <td>g107</td>\n",
       "      <td>0</td>\n",
       "      <td>45.0</td>\n",
       "      <td>0</td>\n",
       "    </tr>\n",
       "    <tr>\n",
       "      <th>3</th>\n",
       "      <td>a457</td>\n",
       "      <td>0</td>\n",
       "      <td>45.0</td>\n",
       "      <td>0</td>\n",
       "    </tr>\n",
       "    <tr>\n",
       "      <th>4</th>\n",
       "      <td>c819</td>\n",
       "      <td>0</td>\n",
       "      <td>45.0</td>\n",
       "      <td>0</td>\n",
       "    </tr>\n",
       "  </tbody>\n",
       "</table>\n",
       "</div>"
      ],
      "text/plain": [
       "  Mouse ID  Timepoint  Tumor Volume (mm3)  Metastatic Sites\n",
       "0     b128          0                45.0                 0\n",
       "1     f932          0                45.0                 0\n",
       "2     g107          0                45.0                 0\n",
       "3     a457          0                45.0                 0\n",
       "4     c819          0                45.0                 0"
      ]
     },
     "execution_count": 37,
     "metadata": {},
     "output_type": "execute_result"
    }
   ],
   "source": [
    "sr_df.head()"
   ]
  },
  {
   "cell_type": "code",
   "execution_count": 90,
   "id": "22e2c4bc",
   "metadata": {},
   "outputs": [
    {
     "data": {
      "text/html": [
       "<div>\n",
       "<style scoped>\n",
       "    .dataframe tbody tr th:only-of-type {\n",
       "        vertical-align: middle;\n",
       "    }\n",
       "\n",
       "    .dataframe tbody tr th {\n",
       "        vertical-align: top;\n",
       "    }\n",
       "\n",
       "    .dataframe thead th {\n",
       "        text-align: right;\n",
       "    }\n",
       "</style>\n",
       "<table border=\"1\" class=\"dataframe\">\n",
       "  <thead>\n",
       "    <tr style=\"text-align: right;\">\n",
       "      <th></th>\n",
       "      <th>Mouse ID</th>\n",
       "      <th>Drug Regimen</th>\n",
       "      <th>Sex</th>\n",
       "      <th>Age_months</th>\n",
       "      <th>Weight (g)</th>\n",
       "      <th>Timepoint</th>\n",
       "      <th>Tumor Volume (mm3)</th>\n",
       "      <th>Metastatic Sites</th>\n",
       "    </tr>\n",
       "  </thead>\n",
       "  <tbody>\n",
       "    <tr>\n",
       "      <th>0</th>\n",
       "      <td>k403</td>\n",
       "      <td>Ramicane</td>\n",
       "      <td>Male</td>\n",
       "      <td>21</td>\n",
       "      <td>16</td>\n",
       "      <td>0</td>\n",
       "      <td>45.000000</td>\n",
       "      <td>0</td>\n",
       "    </tr>\n",
       "    <tr>\n",
       "      <th>1</th>\n",
       "      <td>k403</td>\n",
       "      <td>Ramicane</td>\n",
       "      <td>Male</td>\n",
       "      <td>21</td>\n",
       "      <td>16</td>\n",
       "      <td>5</td>\n",
       "      <td>38.825898</td>\n",
       "      <td>0</td>\n",
       "    </tr>\n",
       "    <tr>\n",
       "      <th>2</th>\n",
       "      <td>k403</td>\n",
       "      <td>Ramicane</td>\n",
       "      <td>Male</td>\n",
       "      <td>21</td>\n",
       "      <td>16</td>\n",
       "      <td>10</td>\n",
       "      <td>35.014271</td>\n",
       "      <td>1</td>\n",
       "    </tr>\n",
       "    <tr>\n",
       "      <th>3</th>\n",
       "      <td>k403</td>\n",
       "      <td>Ramicane</td>\n",
       "      <td>Male</td>\n",
       "      <td>21</td>\n",
       "      <td>16</td>\n",
       "      <td>15</td>\n",
       "      <td>34.223992</td>\n",
       "      <td>1</td>\n",
       "    </tr>\n",
       "    <tr>\n",
       "      <th>4</th>\n",
       "      <td>k403</td>\n",
       "      <td>Ramicane</td>\n",
       "      <td>Male</td>\n",
       "      <td>21</td>\n",
       "      <td>16</td>\n",
       "      <td>20</td>\n",
       "      <td>32.997729</td>\n",
       "      <td>1</td>\n",
       "    </tr>\n",
       "  </tbody>\n",
       "</table>\n",
       "</div>"
      ],
      "text/plain": [
       "  Mouse ID Drug Regimen   Sex  Age_months  Weight (g)  Timepoint  \\\n",
       "0     k403     Ramicane  Male          21          16          0   \n",
       "1     k403     Ramicane  Male          21          16          5   \n",
       "2     k403     Ramicane  Male          21          16         10   \n",
       "3     k403     Ramicane  Male          21          16         15   \n",
       "4     k403     Ramicane  Male          21          16         20   \n",
       "\n",
       "   Tumor Volume (mm3)  Metastatic Sites  \n",
       "0           45.000000                 0  \n",
       "1           38.825898                 0  \n",
       "2           35.014271                 1  \n",
       "3           34.223992                 1  \n",
       "4           32.997729                 1  "
      ]
     },
     "execution_count": 90,
     "metadata": {},
     "output_type": "execute_result"
    }
   ],
   "source": [
    "#check the data for any mouse ID with duplicate time points and remove any data associated with that mouse ID.\n",
    "sr_df = sr_df.drop_duplicates()\n",
    "df = pd.merge(md_df, sr_df, on='Mouse ID')\n",
    "df.head()"
   ]
  },
  {
   "cell_type": "code",
   "execution_count": 58,
   "id": "352d4884",
   "metadata": {},
   "outputs": [
    {
     "data": {
      "text/html": [
       "<div>\n",
       "<style scoped>\n",
       "    .dataframe tbody tr th:only-of-type {\n",
       "        vertical-align: middle;\n",
       "    }\n",
       "\n",
       "    .dataframe tbody tr th {\n",
       "        vertical-align: top;\n",
       "    }\n",
       "\n",
       "    .dataframe thead th {\n",
       "        text-align: right;\n",
       "    }\n",
       "</style>\n",
       "<table border=\"1\" class=\"dataframe\">\n",
       "  <thead>\n",
       "    <tr style=\"text-align: right;\">\n",
       "      <th></th>\n",
       "      <th>Tumor Mean Volume</th>\n",
       "      <th>Tumor Median Volume</th>\n",
       "      <th>Tumor Variance</th>\n",
       "      <th>Tumor Standard Deviation</th>\n",
       "    </tr>\n",
       "    <tr>\n",
       "      <th>Drug Regimen</th>\n",
       "      <th></th>\n",
       "      <th></th>\n",
       "      <th></th>\n",
       "      <th></th>\n",
       "    </tr>\n",
       "  </thead>\n",
       "  <tbody>\n",
       "    <tr>\n",
       "      <th>Capomulin</th>\n",
       "      <td>40.675741</td>\n",
       "      <td>41.557809</td>\n",
       "      <td>24.947764</td>\n",
       "      <td>4.994774</td>\n",
       "    </tr>\n",
       "    <tr>\n",
       "      <th>Ceftamin</th>\n",
       "      <td>52.591172</td>\n",
       "      <td>51.776157</td>\n",
       "      <td>39.290177</td>\n",
       "      <td>6.268188</td>\n",
       "    </tr>\n",
       "    <tr>\n",
       "      <th>Infubinol</th>\n",
       "      <td>52.884795</td>\n",
       "      <td>51.820584</td>\n",
       "      <td>43.128684</td>\n",
       "      <td>6.567243</td>\n",
       "    </tr>\n",
       "    <tr>\n",
       "      <th>Ketapril</th>\n",
       "      <td>55.235638</td>\n",
       "      <td>53.698743</td>\n",
       "      <td>68.553577</td>\n",
       "      <td>8.279709</td>\n",
       "    </tr>\n",
       "    <tr>\n",
       "      <th>Naftisol</th>\n",
       "      <td>54.331565</td>\n",
       "      <td>52.509285</td>\n",
       "      <td>66.173479</td>\n",
       "      <td>8.134708</td>\n",
       "    </tr>\n",
       "    <tr>\n",
       "      <th>Placebo</th>\n",
       "      <td>54.033581</td>\n",
       "      <td>52.288934</td>\n",
       "      <td>61.168083</td>\n",
       "      <td>7.821003</td>\n",
       "    </tr>\n",
       "    <tr>\n",
       "      <th>Propriva</th>\n",
       "      <td>52.368318</td>\n",
       "      <td>50.909965</td>\n",
       "      <td>42.278090</td>\n",
       "      <td>6.502160</td>\n",
       "    </tr>\n",
       "    <tr>\n",
       "      <th>Ramicane</th>\n",
       "      <td>40.216745</td>\n",
       "      <td>40.673236</td>\n",
       "      <td>23.486704</td>\n",
       "      <td>4.846308</td>\n",
       "    </tr>\n",
       "    <tr>\n",
       "      <th>Stelasyn</th>\n",
       "      <td>54.233149</td>\n",
       "      <td>52.431737</td>\n",
       "      <td>59.450562</td>\n",
       "      <td>7.710419</td>\n",
       "    </tr>\n",
       "    <tr>\n",
       "      <th>Zoniferol</th>\n",
       "      <td>53.236507</td>\n",
       "      <td>51.818479</td>\n",
       "      <td>48.533355</td>\n",
       "      <td>6.966589</td>\n",
       "    </tr>\n",
       "  </tbody>\n",
       "</table>\n",
       "</div>"
      ],
      "text/plain": [
       "              Tumor Mean Volume  Tumor Median Volume  Tumor Variance  \\\n",
       "Drug Regimen                                                           \n",
       "Capomulin             40.675741            41.557809       24.947764   \n",
       "Ceftamin              52.591172            51.776157       39.290177   \n",
       "Infubinol             52.884795            51.820584       43.128684   \n",
       "Ketapril              55.235638            53.698743       68.553577   \n",
       "Naftisol              54.331565            52.509285       66.173479   \n",
       "Placebo               54.033581            52.288934       61.168083   \n",
       "Propriva              52.368318            50.909965       42.278090   \n",
       "Ramicane              40.216745            40.673236       23.486704   \n",
       "Stelasyn              54.233149            52.431737       59.450562   \n",
       "Zoniferol             53.236507            51.818479       48.533355   \n",
       "\n",
       "              Tumor Standard Deviation  \n",
       "Drug Regimen                            \n",
       "Capomulin                     4.994774  \n",
       "Ceftamin                      6.268188  \n",
       "Infubinol                     6.567243  \n",
       "Ketapril                      8.279709  \n",
       "Naftisol                      8.134708  \n",
       "Placebo                       7.821003  \n",
       "Propriva                      6.502160  \n",
       "Ramicane                      4.846308  \n",
       "Stelasyn                      7.710419  \n",
       "Zoniferol                     6.966589  "
      ]
     },
     "execution_count": 58,
     "metadata": {},
     "output_type": "execute_result"
    }
   ],
   "source": [
    "#Generate a summary statistics table consisting of the mean, median, variance, standard deviation, \n",
    "#and SEM of the tumor volume for each drug regimen.\n",
    "drug_df = df.groupby(['Drug Regimen'])\n",
    "tumorMean = drug_df['Tumor Volume (mm3)'].mean()\n",
    "tumorMedian = drug_df['Tumor Volume (mm3)'].median()\n",
    "tumorVar = drug_df['Tumor Volume (mm3)'].var()\n",
    "tumorSD = drug_df['Tumor Volume (mm3)'].std()\n",
    "#tumorSEM = sem(drug_df['Tumor Volume (mm3)'], axis=None, ddof=0)\n",
    "\n",
    "drugSummary = pd.DataFrame({'Tumor Mean Volume': tumorMean,\n",
    "                           'Tumor Median Volume': tumorMedian,\n",
    "                           'Tumor Variance': tumorVar,\n",
    "                           'Tumor Standard Deviation': tumorSD})\n",
    "drugSummary"
   ]
  },
  {
   "cell_type": "code",
   "execution_count": null,
   "id": "86e1188f",
   "metadata": {},
   "outputs": [],
   "source": [
    "#Generate a bar plot using both Pandas's `DataFrame.plot()` and Matplotlib's `pyplot` \n",
    "#that shows the total number of measurements taken for each treatment regimen throughout the course of the study."
   ]
  },
  {
   "cell_type": "code",
   "execution_count": 88,
   "id": "edd9d017",
   "metadata": {},
   "outputs": [
    {
     "data": {
      "text/plain": [
       "<Figure size 7200x28800 with 0 Axes>"
      ]
     },
     "execution_count": 88,
     "metadata": {},
     "output_type": "execute_result"
    },
    {
     "data": {
      "image/png": "[encoded data removed]",
      "text/plain": [
       "<Figure size 432x288 with 1 Axes>"
      ]
     },
     "metadata": {
      "needs_background": "light"
     },
     "output_type": "display_data"
    },
    {
     "data": {
      "text/plain": [
       "<Figure size 7200x28800 with 0 Axes>"
      ]
     },
     "metadata": {},
     "output_type": "display_data"
    }
   ],
   "source": [
    "#Generate a bar plot using both Pandas's `DataFrame.plot()` and Matplotlib's `pyplot` \n",
    "#that shows the total number of measurements taken for each treatment regimen throughout the course of the study.\n",
    "drugCounts = df['Drug Regimen'].value_counts()\n",
    "xaxis = np.arange(0,len(drugCounts))\n",
    "tickLocations = [value for value in xaxis]\n",
    "plt.xticks(tickLocations, ['Capomulin','Ramicane','Ketapril','Naftisol','Zoniferol','Stelasyn','Placebo','Ifubinol','Ceftamin','Propriva'])\n",
    "plt.title('Total Number of Measurements Taken for each Drug Regimen')\n",
    "plt.xlabel('Drug Regimen')\n",
    "plt.ylabel('Total Number of Measurements Taken')\n",
    "plt.bar(xaxis, drugCounts, align='edge')"
   ]
  },
  {
   "cell_type": "code",
   "execution_count": 151,
   "id": "b46adb60",
   "metadata": {},
   "outputs": [
    {
     "data": {
      "text/plain": [
       "Text(0, 0.5, 'Drug Count')"
      ]
     },
     "execution_count": 151,
     "metadata": {},
     "output_type": "execute_result"
    },
    {
     "data": {
      "image/png": "[encoded data removed]",
      "text/plain": [
       "<Figure size 432x288 with 1 Axes>"
      ]
     },
     "metadata": {
      "needs_background": "light"
     },
     "output_type": "display_data"
    }
   ],
   "source": [
    "#Generate a pie plot using both Pandas's `DataFrame.plot()` and Matplotlib's `pyplot` \n",
    "#that shows the distribution of female or male mice in the study.\n"
   ]
  },
  {
   "cell_type": "code",
   "execution_count": 183,
   "id": "82e7b9b5",
   "metadata": {},
   "outputs": [
    {
     "data": {
      "text/plain": [
       "{'whiskers': [<matplotlib.lines.Line2D at 0x7fd1d97320b8>,\n",
       "  <matplotlib.lines.Line2D at 0x7fd1d9732470>],\n",
       " 'caps': [<matplotlib.lines.Line2D at 0x7fd1d97327b8>,\n",
       "  <matplotlib.lines.Line2D at 0x7fd1d9732b00>],\n",
       " 'boxes': [<matplotlib.lines.Line2D at 0x7fd1d9723f28>],\n",
       " 'medians': [<matplotlib.lines.Line2D at 0x7fd1d9732e48>],\n",
       " 'fliers': [<matplotlib.lines.Line2D at 0x7fd1d973c1d0>],\n",
       " 'means': []}"
      ]
     },
     "execution_count": 183,
     "metadata": {},
     "output_type": "execute_result"
    },
    {
     "data": {
      "image/png": "[encoded data removed]",
      "text/plain": [
       "<Figure size 432x288 with 1 Axes>"
      ]
     },
     "metadata": {
      "needs_background": "light"
     },
     "output_type": "display_data"
    }
   ],
   "source": [
    "#Calculate the final tumor volume of each mouse across four of the most promising treatment regimens: \n",
    "#Capomulin, Ramicane, Infubinol, and Ceftamin. Calculate the quartiles and IQR and \n",
    "#quantitatively determine if there are any potential outliers across all four treatment regimens.\n",
    "\n",
    "#Locate by Drug Name \n",
    "capomulin_df = df.loc[df[\"Drug Regimen\"] == \"Capomulin\"]\n",
    "ramicane_df = df.loc[df[\"Drug Regimen\"] == \"Ramicane\"]\n",
    "infubinol_df = df.loc[df[\"Drug Regimen\"] == \"Infubinol\"]\n",
    "ceftamin_df = df.loc[df[\"Drug Regimen\"] == \"Ceftamin\"]\n",
    "\n",
    "#Append each drug \n",
    "topFour_df = capomulin_df.append(ramicane_df).append(infubinol_df).append(ceftamin_df)\n",
    "\n",
    "#Locate by final timepoint\n",
    "topFour_df = topFour_df[topFour_df['Timepoint'] == 45]\n",
    "topFour_df = topFour_df[['Drug Regimen', 'Tumor Volume (mm3)']]\n",
    "finalVolume = topFour_df['Tumor Volume (mm3)']\n",
    "\n",
    "quartiles = finalVolume.quantile([0.25,0.5,0.75])\n",
    "lowerq = quartiles[0.25]\n",
    "upperq = quartiles[0.75]\n",
    "iqr = upperq - lowerq \n",
    "\n",
    "fig1, ax1 = plt.subplots()\n",
    "ax1.boxplot(finalVolume)"
   ]
  },
  {
   "cell_type": "code",
   "execution_count": 14,
   "id": "f246ca2a",
   "metadata": {},
   "outputs": [],
   "source": [
    "#Using Matplotlib, generate a box and whisker plot of the final tumor volume for all four treatment regimens and \n",
    "#highlight any potential outliers in the plot by changing their color and style.\n",
    "#**Hint**: All four box plots should be within the same figure. Use this [Matplotlib documentation page]"
   ]
  },
  {
   "cell_type": "code",
   "execution_count": 15,
   "id": "693e89cf",
   "metadata": {},
   "outputs": [],
   "source": [
    "#Select a mouse that was treated with Capomulin and generate a line plot of tumor volume vs. time point for that mouse."
   ]
  },
  {
   "cell_type": "code",
   "execution_count": 16,
   "id": "2abbd1b0",
   "metadata": {},
   "outputs": [],
   "source": [
    "#Generate a scatter plot of tumor volume versus mouse weight for the Capomulin treatment regimen."
   ]
  },
  {
   "cell_type": "code",
   "execution_count": 17,
   "id": "835a9e15",
   "metadata": {},
   "outputs": [],
   "source": [
    "#Calculate the correlation coefficient and linear regression model between mouse weight and \n",
    "#average tumor volume for the Capomulin treatment. Plot the linear regression model on top of the previous scatter plot."
   ]
  },
  {
   "cell_type": "code",
   "execution_count": null,
   "id": "5e585238",
   "metadata": {},
   "outputs": [],
   "source": [
    "#Look across all previously generated figures and tables and write at least three observations or inferences \n",
    "#that can be made from the data. Include these observations at the top of notebook."
   ]
  }
 ],
 "metadata": {
  "kernelspec": {
   "display_name": "Python 3",
   "language": "python",
   "name": "python3"
  },
  "language_info": {
   "codemirror_mode": {
    "name": "ipython",
    "version": 3
   },
   "file_extension": ".py",
   "mimetype": "text/x-python",
   "name": "python",
   "nbconvert_exporter": "python",
   "pygments_lexer": "ipython3",
   "version": "3.6.10"
  }
 },
 "nbformat": 4,
 "nbformat_minor": 5
}
