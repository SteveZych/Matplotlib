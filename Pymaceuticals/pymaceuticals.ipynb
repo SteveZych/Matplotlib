{
 "cells": [
  {
   "cell_type": "code",
   "execution_count": 1,
   "id": "6c7cd50d",
   "metadata": {},
   "outputs": [],
   "source": [
    "#Dependencies\n",
    "import pandas as pd\n",
    "import numpy as np\n",
    "import matplotlib.pyplot as plt\n",
    "import scipy.stats as sts\n",
    "from scipy.stats import sem"
   ]
  },
  {
   "cell_type": "code",
   "execution_count": 2,
   "id": "03d769cf",
   "metadata": {},
   "outputs": [
    {
     "data": {
      "text/html": [
       "<div>\n",
       "<style scoped>\n",
       "    .dataframe tbody tr th:only-of-type {\n",
       "        vertical-align: middle;\n",
       "    }\n",
       "\n",
       "    .dataframe tbody tr th {\n",
       "        vertical-align: top;\n",
       "    }\n",
       "\n",
       "    .dataframe thead th {\n",
       "        text-align: right;\n",
       "    }\n",
       "</style>\n",
       "<table border=\"1\" class=\"dataframe\">\n",
       "  <thead>\n",
       "    <tr style=\"text-align: right;\">\n",
       "      <th></th>\n",
       "      <th>Mouse ID</th>\n",
       "      <th>Drug Regimen</th>\n",
       "      <th>Sex</th>\n",
       "      <th>Age_months</th>\n",
       "      <th>Weight (g)</th>\n",
       "    </tr>\n",
       "  </thead>\n",
       "  <tbody>\n",
       "    <tr>\n",
       "      <th>0</th>\n",
       "      <td>k403</td>\n",
       "      <td>Ramicane</td>\n",
       "      <td>Male</td>\n",
       "      <td>21</td>\n",
       "      <td>16</td>\n",
       "    </tr>\n",
       "    <tr>\n",
       "      <th>1</th>\n",
       "      <td>s185</td>\n",
       "      <td>Capomulin</td>\n",
       "      <td>Female</td>\n",
       "      <td>3</td>\n",
       "      <td>17</td>\n",
       "    </tr>\n",
       "    <tr>\n",
       "      <th>2</th>\n",
       "      <td>x401</td>\n",
       "      <td>Capomulin</td>\n",
       "      <td>Female</td>\n",
       "      <td>16</td>\n",
       "      <td>15</td>\n",
       "    </tr>\n",
       "    <tr>\n",
       "      <th>3</th>\n",
       "      <td>m601</td>\n",
       "      <td>Capomulin</td>\n",
       "      <td>Male</td>\n",
       "      <td>22</td>\n",
       "      <td>17</td>\n",
       "    </tr>\n",
       "    <tr>\n",
       "      <th>4</th>\n",
       "      <td>g791</td>\n",
       "      <td>Ramicane</td>\n",
       "      <td>Male</td>\n",
       "      <td>11</td>\n",
       "      <td>16</td>\n",
       "    </tr>\n",
       "  </tbody>\n",
       "</table>\n",
       "</div>"
      ],
      "text/plain": [
       "  Mouse ID Drug Regimen     Sex  Age_months  Weight (g)\n",
       "0     k403     Ramicane    Male          21          16\n",
       "1     s185    Capomulin  Female           3          17\n",
       "2     x401    Capomulin  Female          16          15\n",
       "3     m601    Capomulin    Male          22          17\n",
       "4     g791     Ramicane    Male          11          16"
      ]
     },
     "execution_count": 2,
     "metadata": {},
     "output_type": "execute_result"
    }
   ],
   "source": [
    "#import data\n",
    "md_df = pd.read_csv('Resources/Pymaceuticals_data_Mouse_metadata.csv')\n",
    "sr_df = pd.read_csv('Resources/Pymaceuticals_data_Study_results.csv')\n",
    "md_df.head()"
   ]
  },
  {
   "cell_type": "code",
   "execution_count": 3,
   "id": "03778dd1",
   "metadata": {},
   "outputs": [
    {
     "data": {
      "text/html": [
       "<div>\n",
       "<style scoped>\n",
       "    .dataframe tbody tr th:only-of-type {\n",
       "        vertical-align: middle;\n",
       "    }\n",
       "\n",
       "    .dataframe tbody tr th {\n",
       "        vertical-align: top;\n",
       "    }\n",
       "\n",
       "    .dataframe thead th {\n",
       "        text-align: right;\n",
       "    }\n",
       "</style>\n",
       "<table border=\"1\" class=\"dataframe\">\n",
       "  <thead>\n",
       "    <tr style=\"text-align: right;\">\n",
       "      <th></th>\n",
       "      <th>Mouse ID</th>\n",
       "      <th>Timepoint</th>\n",
       "      <th>Tumor Volume (mm3)</th>\n",
       "      <th>Metastatic Sites</th>\n",
       "    </tr>\n",
       "  </thead>\n",
       "  <tbody>\n",
       "    <tr>\n",
       "      <th>0</th>\n",
       "      <td>b128</td>\n",
       "      <td>0</td>\n",
       "      <td>45.0</td>\n",
       "      <td>0</td>\n",
       "    </tr>\n",
       "    <tr>\n",
       "      <th>1</th>\n",
       "      <td>f932</td>\n",
       "      <td>0</td>\n",
       "      <td>45.0</td>\n",
       "      <td>0</td>\n",
       "    </tr>\n",
       "    <tr>\n",
       "      <th>2</th>\n",
       "      <td>g107</td>\n",
       "      <td>0</td>\n",
       "      <td>45.0</td>\n",
       "      <td>0</td>\n",
       "    </tr>\n",
       "    <tr>\n",
       "      <th>3</th>\n",
       "      <td>a457</td>\n",
       "      <td>0</td>\n",
       "      <td>45.0</td>\n",
       "      <td>0</td>\n",
       "    </tr>\n",
       "    <tr>\n",
       "      <th>4</th>\n",
       "      <td>c819</td>\n",
       "      <td>0</td>\n",
       "      <td>45.0</td>\n",
       "      <td>0</td>\n",
       "    </tr>\n",
       "  </tbody>\n",
       "</table>\n",
       "</div>"
      ],
      "text/plain": [
       "  Mouse ID  Timepoint  Tumor Volume (mm3)  Metastatic Sites\n",
       "0     b128          0                45.0                 0\n",
       "1     f932          0                45.0                 0\n",
       "2     g107          0                45.0                 0\n",
       "3     a457          0                45.0                 0\n",
       "4     c819          0                45.0                 0"
      ]
     },
     "execution_count": 3,
     "metadata": {},
     "output_type": "execute_result"
    }
   ],
   "source": [
    "sr_df.head()"
   ]
  },
  {
   "cell_type": "code",
   "execution_count": 4,
   "id": "aee540bc",
   "metadata": {},
   "outputs": [
    {
     "data": {
      "text/html": [
       "<div>\n",
       "<style scoped>\n",
       "    .dataframe tbody tr th:only-of-type {\n",
       "        vertical-align: middle;\n",
       "    }\n",
       "\n",
       "    .dataframe tbody tr th {\n",
       "        vertical-align: top;\n",
       "    }\n",
       "\n",
       "    .dataframe thead th {\n",
       "        text-align: right;\n",
       "    }\n",
       "</style>\n",
       "<table border=\"1\" class=\"dataframe\">\n",
       "  <thead>\n",
       "    <tr style=\"text-align: right;\">\n",
       "      <th></th>\n",
       "      <th>Mouse ID</th>\n",
       "      <th>Drug Regimen</th>\n",
       "      <th>Sex</th>\n",
       "      <th>Age_months</th>\n",
       "      <th>Weight (g)</th>\n",
       "      <th>Timepoint</th>\n",
       "      <th>Tumor Volume (mm3)</th>\n",
       "      <th>Metastatic Sites</th>\n",
       "    </tr>\n",
       "  </thead>\n",
       "  <tbody>\n",
       "    <tr>\n",
       "      <th>0</th>\n",
       "      <td>k403</td>\n",
       "      <td>Ramicane</td>\n",
       "      <td>Male</td>\n",
       "      <td>21</td>\n",
       "      <td>16</td>\n",
       "      <td>0</td>\n",
       "      <td>45.000000</td>\n",
       "      <td>0</td>\n",
       "    </tr>\n",
       "    <tr>\n",
       "      <th>1</th>\n",
       "      <td>k403</td>\n",
       "      <td>Ramicane</td>\n",
       "      <td>Male</td>\n",
       "      <td>21</td>\n",
       "      <td>16</td>\n",
       "      <td>5</td>\n",
       "      <td>38.825898</td>\n",
       "      <td>0</td>\n",
       "    </tr>\n",
       "    <tr>\n",
       "      <th>2</th>\n",
       "      <td>k403</td>\n",
       "      <td>Ramicane</td>\n",
       "      <td>Male</td>\n",
       "      <td>21</td>\n",
       "      <td>16</td>\n",
       "      <td>10</td>\n",
       "      <td>35.014271</td>\n",
       "      <td>1</td>\n",
       "    </tr>\n",
       "    <tr>\n",
       "      <th>3</th>\n",
       "      <td>k403</td>\n",
       "      <td>Ramicane</td>\n",
       "      <td>Male</td>\n",
       "      <td>21</td>\n",
       "      <td>16</td>\n",
       "      <td>15</td>\n",
       "      <td>34.223992</td>\n",
       "      <td>1</td>\n",
       "    </tr>\n",
       "    <tr>\n",
       "      <th>4</th>\n",
       "      <td>k403</td>\n",
       "      <td>Ramicane</td>\n",
       "      <td>Male</td>\n",
       "      <td>21</td>\n",
       "      <td>16</td>\n",
       "      <td>20</td>\n",
       "      <td>32.997729</td>\n",
       "      <td>1</td>\n",
       "    </tr>\n",
       "  </tbody>\n",
       "</table>\n",
       "</div>"
      ],
      "text/plain": [
       "  Mouse ID Drug Regimen   Sex  Age_months  Weight (g)  Timepoint  \\\n",
       "0     k403     Ramicane  Male          21          16          0   \n",
       "1     k403     Ramicane  Male          21          16          5   \n",
       "2     k403     Ramicane  Male          21          16         10   \n",
       "3     k403     Ramicane  Male          21          16         15   \n",
       "4     k403     Ramicane  Male          21          16         20   \n",
       "\n",
       "   Tumor Volume (mm3)  Metastatic Sites  \n",
       "0           45.000000                 0  \n",
       "1           38.825898                 0  \n",
       "2           35.014271                 1  \n",
       "3           34.223992                 1  \n",
       "4           32.997729                 1  "
      ]
     },
     "execution_count": 4,
     "metadata": {},
     "output_type": "execute_result"
    }
   ],
   "source": [
    "#check the data for any mouse ID with duplicate time points and remove any data associated with that mouse ID.\n",
    "sr_df = sr_df.drop_duplicates()\n",
    "df = pd.merge(md_df, sr_df, on='Mouse ID')\n",
    "df.head()"
   ]
  },
  {
   "cell_type": "code",
   "execution_count": 5,
   "id": "4c247bfd",
   "metadata": {},
   "outputs": [
    {
     "data": {
      "text/html": [
       "<div>\n",
       "<style scoped>\n",
       "    .dataframe tbody tr th:only-of-type {\n",
       "        vertical-align: middle;\n",
       "    }\n",
       "\n",
       "    .dataframe tbody tr th {\n",
       "        vertical-align: top;\n",
       "    }\n",
       "\n",
       "    .dataframe thead th {\n",
       "        text-align: right;\n",
       "    }\n",
       "</style>\n",
       "<table border=\"1\" class=\"dataframe\">\n",
       "  <thead>\n",
       "    <tr style=\"text-align: right;\">\n",
       "      <th></th>\n",
       "      <th>Tumor Mean Volume</th>\n",
       "      <th>Tumor Median Volume</th>\n",
       "      <th>Tumor Variance</th>\n",
       "      <th>Tumor Standard Deviation</th>\n",
       "    </tr>\n",
       "    <tr>\n",
       "      <th>Drug Regimen</th>\n",
       "      <th></th>\n",
       "      <th></th>\n",
       "      <th></th>\n",
       "      <th></th>\n",
       "    </tr>\n",
       "  </thead>\n",
       "  <tbody>\n",
       "    <tr>\n",
       "      <th>Capomulin</th>\n",
       "      <td>40.675741</td>\n",
       "      <td>41.557809</td>\n",
       "      <td>24.947764</td>\n",
       "      <td>4.994774</td>\n",
       "    </tr>\n",
       "    <tr>\n",
       "      <th>Ceftamin</th>\n",
       "      <td>52.591172</td>\n",
       "      <td>51.776157</td>\n",
       "      <td>39.290177</td>\n",
       "      <td>6.268188</td>\n",
       "    </tr>\n",
       "    <tr>\n",
       "      <th>Infubinol</th>\n",
       "      <td>52.884795</td>\n",
       "      <td>51.820584</td>\n",
       "      <td>43.128684</td>\n",
       "      <td>6.567243</td>\n",
       "    </tr>\n",
       "    <tr>\n",
       "      <th>Ketapril</th>\n",
       "      <td>55.235638</td>\n",
       "      <td>53.698743</td>\n",
       "      <td>68.553577</td>\n",
       "      <td>8.279709</td>\n",
       "    </tr>\n",
       "    <tr>\n",
       "      <th>Naftisol</th>\n",
       "      <td>54.331565</td>\n",
       "      <td>52.509285</td>\n",
       "      <td>66.173479</td>\n",
       "      <td>8.134708</td>\n",
       "    </tr>\n",
       "    <tr>\n",
       "      <th>Placebo</th>\n",
       "      <td>54.033581</td>\n",
       "      <td>52.288934</td>\n",
       "      <td>61.168083</td>\n",
       "      <td>7.821003</td>\n",
       "    </tr>\n",
       "    <tr>\n",
       "      <th>Propriva</th>\n",
       "      <td>52.368318</td>\n",
       "      <td>50.909965</td>\n",
       "      <td>42.278090</td>\n",
       "      <td>6.502160</td>\n",
       "    </tr>\n",
       "    <tr>\n",
       "      <th>Ramicane</th>\n",
       "      <td>40.216745</td>\n",
       "      <td>40.673236</td>\n",
       "      <td>23.486704</td>\n",
       "      <td>4.846308</td>\n",
       "    </tr>\n",
       "    <tr>\n",
       "      <th>Stelasyn</th>\n",
       "      <td>54.233149</td>\n",
       "      <td>52.431737</td>\n",
       "      <td>59.450562</td>\n",
       "      <td>7.710419</td>\n",
       "    </tr>\n",
       "    <tr>\n",
       "      <th>Zoniferol</th>\n",
       "      <td>53.236507</td>\n",
       "      <td>51.818479</td>\n",
       "      <td>48.533355</td>\n",
       "      <td>6.966589</td>\n",
       "    </tr>\n",
       "  </tbody>\n",
       "</table>\n",
       "</div>"
      ],
      "text/plain": [
       "              Tumor Mean Volume  Tumor Median Volume  Tumor Variance  \\\n",
       "Drug Regimen                                                           \n",
       "Capomulin             40.675741            41.557809       24.947764   \n",
       "Ceftamin              52.591172            51.776157       39.290177   \n",
       "Infubinol             52.884795            51.820584       43.128684   \n",
       "Ketapril              55.235638            53.698743       68.553577   \n",
       "Naftisol              54.331565            52.509285       66.173479   \n",
       "Placebo               54.033581            52.288934       61.168083   \n",
       "Propriva              52.368318            50.909965       42.278090   \n",
       "Ramicane              40.216745            40.673236       23.486704   \n",
       "Stelasyn              54.233149            52.431737       59.450562   \n",
       "Zoniferol             53.236507            51.818479       48.533355   \n",
       "\n",
       "              Tumor Standard Deviation  \n",
       "Drug Regimen                            \n",
       "Capomulin                     4.994774  \n",
       "Ceftamin                      6.268188  \n",
       "Infubinol                     6.567243  \n",
       "Ketapril                      8.279709  \n",
       "Naftisol                      8.134708  \n",
       "Placebo                       7.821003  \n",
       "Propriva                      6.502160  \n",
       "Ramicane                      4.846308  \n",
       "Stelasyn                      7.710419  \n",
       "Zoniferol                     6.966589  "
      ]
     },
     "execution_count": 5,
     "metadata": {},
     "output_type": "execute_result"
    }
   ],
   "source": [
    "#Generate a summary statistics table consisting of the mean, median, variance, standard deviation, \n",
    "#and SEM of the tumor volume for each drug regimen.\n",
    "drug_df = df.groupby(['Drug Regimen'])\n",
    "tumorMean = drug_df['Tumor Volume (mm3)'].mean()\n",
    "tumorMedian = drug_df['Tumor Volume (mm3)'].median()\n",
    "tumorVar = drug_df['Tumor Volume (mm3)'].var()\n",
    "tumorSD = drug_df['Tumor Volume (mm3)'].std()\n",
    "#tumorSEM = sem(drug_df['Tumor Volume (mm3)'], axis=None, ddof=0)\n",
    "\n",
    "drugSummary = pd.DataFrame({'Tumor Mean Volume': tumorMean,\n",
    "                           'Tumor Median Volume': tumorMedian,\n",
    "                           'Tumor Variance': tumorVar,\n",
    "                           'Tumor Standard Deviation': tumorSD})\n",
    "drugSummary"
   ]
  },
  {
   "cell_type": "code",
   "execution_count": 10,
   "id": "8e007bcd",
   "metadata": {},
   "outputs": [
    {
     "data": {
      "text/plain": [
       "<BarContainer object of 10 artists>"
      ]
     },
     "execution_count": 10,
     "metadata": {},
     "output_type": "execute_result"
    },
    {
     "data": {
      "image/png": "[encoded data removed]",
      "text/plain": [
       "<Figure size 432x288 with 1 Axes>"
      ]
     },
     "metadata": {
      "needs_background": "light"
     },
     "output_type": "display_data"
    }
   ],
   "source": [
    "#Generate a bar plot using both Pandas's `DataFrame.plot()` and Matplotlib's `pyplot` \n",
    "#that shows the total number of measurements taken for each treatment regimen throughout the course of the study.\n",
    "drugCounts = df['Drug Regimen'].value_counts()\n",
    "xaxis = np.arange(0,len(drugCounts))\n",
    "tickLocations = [value for value in xaxis]\n",
    "plt.xticks(tickLocations, ['Capomulin','Ramicane','Ketapril','Naftisol','Zoniferol','Stelasyn','Placebo','Ifubinol','Ceftamin','Propriva'])\n",
    "plt.title('Total Number of Measurements Taken for each Drug Regimen')\n",
    "plt.xlabel('Drug Regimen')\n",
    "plt.ylabel('Total Number of Measurements Taken')\n",
    "plt.bar(xaxis, drugCounts, align='edge')"
   ]
  },
  {
   "cell_type": "code",
   "execution_count": 21,
   "id": "ad922bf8",
   "metadata": {},
   "outputs": [
    {
     "data": {
      "text/plain": [
       "Text(0.5, 1.0, 'Total Number of Measurements Taken for each Drug Regimen')"
      ]
     },
     "execution_count": 21,
     "metadata": {},
     "output_type": "execute_result"
    },
    {
     "data": {
      "image/png": "[encoded data removed]",
      "text/plain": [
       "<Figure size 432x288 with 1 Axes>"
      ]
     },
     "metadata": {
      "needs_background": "light"
     },
     "output_type": "display_data"
    }
   ],
   "source": [
    "#Generate a bar plot using both Pandas's `DataFrame.plot()` and Matplotlib's `pyplot` \n",
    "#that shows the total number of measurements taken for each treatment regimen throughout the course of the study.\n",
    "drugCounts.plot(kind=\"bar\")\n",
    "plt.ylabel('Total Number of Measurements Taken')\n",
    "plt.title('Total Number of Measurements Taken for each Drug Regimen')"
   ]
  },
  {
   "cell_type": "code",
   "execution_count": 20,
   "id": "1be56c93",
   "metadata": {},
   "outputs": [
    {
     "data": {
      "text/plain": [
       "([<matplotlib.patches.Wedge at 0x7f8fd7affc88>,\n",
       "  <matplotlib.patches.Wedge at 0x7f8fd7973630>],\n",
       " [Text(-0.6901369591455114, -0.8565693069573453, 'Male'),\n",
       "  Text(0.6901370393433148, 0.8565692423420561, 'Female')],\n",
       " [Text(-0.3764383413520971, -0.4672196219767338, '50.6%'),\n",
       "  Text(0.37643838509635347, 0.46721958673203057, '49.4%')])"
      ]
     },
     "execution_count": 20,
     "metadata": {},
     "output_type": "execute_result"
    },
    {
     "data": {
      "image/png": "[encoded data removed]",
      "text/plain": [
       "<Figure size 432x288 with 1 Axes>"
      ]
     },
     "metadata": {},
     "output_type": "display_data"
    }
   ],
   "source": [
    "#Generate a pie plot using both Pandas's `DataFrame.plot()` and Matplotlib's `pyplot` \n",
    "#that shows the distribution of female or male mice in the study.\n",
    "sex_df = df['Sex'].value_counts()\n",
    "sizes = [sex_df[0], sex_df[1]]\n",
    "labels = [\"Male\", 'Female']\n",
    "#explode = (0.1, 0, 0, 0)\n",
    "colors = [\"Blue\", \"Orange\"]\n",
    "plt.pie(sizes, labels=labels, colors=colors,\n",
    "        autopct=\"%1.1f%%\", shadow=True, startangle=140)"
   ]
  },
  {
   "cell_type": "code",
   "execution_count": 18,
   "id": "331a1150",
   "metadata": {},
   "outputs": [
    {
     "data": {
      "text/plain": [
       "<matplotlib.axes._subplots.AxesSubplot at 0x7f8fd6f328d0>"
      ]
     },
     "execution_count": 18,
     "metadata": {},
     "output_type": "execute_result"
    },
    {
     "data": {
      "image/png": "[encoded data removed]",
      "text/plain": [
       "<Figure size 432x288 with 1 Axes>"
      ]
     },
     "metadata": {},
     "output_type": "display_data"
    }
   ],
   "source": [
    "#Generate a pie plot using both Pandas's `DataFrame.plot()` and Matplotlib's `pyplot` \n",
    "#that shows the distribution of female or male mice in the study.\n",
    "sex_df.plot(kind=\"pie\")"
   ]
  },
  {
   "cell_type": "code",
   "execution_count": 9,
   "id": "ff0827bb",
   "metadata": {},
   "outputs": [
    {
     "data": {
      "image/png": "[encoded data removed]",
      "text/plain": [
       "<Figure size 432x288 with 1 Axes>"
      ]
     },
     "metadata": {
      "needs_background": "light"
     },
     "output_type": "display_data"
    }
   ],
   "source": [
    "#Calculate the final tumor volume of each mouse across four of the most promising treatment regimens: \n",
    "#Capomulin, Ramicane, Infubinol, and Ceftamin. Calculate the quartiles and IQR and \n",
    "#quantitatively determine if there are any potential outliers across all four treatment regimens.\n",
    "\n",
    "#Locate by Drug Name \n",
    "capomulin_df = df.loc[df[\"Drug Regimen\"] == \"Capomulin\"]\n",
    "ramicane_df = df.loc[df[\"Drug Regimen\"] == \"Ramicane\"]\n",
    "infubinol_df = df.loc[df[\"Drug Regimen\"] == \"Infubinol\"]\n",
    "ceftamin_df = df.loc[df[\"Drug Regimen\"] == \"Ceftamin\"]\n",
    "\n",
    "#Locate by final timepoint\n",
    "capomulin_df = capomulin_df.loc[capomulin_df['Timepoint'] == 45]\n",
    "ramicane_df = ramicane_df.loc[ramicane_df['Timepoint'] == 45]\n",
    "infubinol_df = infubinol_df.loc[infubinol_df['Timepoint'] == 45]\n",
    "ceftamin_df = ceftamin_df.loc[ceftamin_df['Timepoint'] == 45]\n",
    "\n",
    "#Final Tumor Volume by Drug\n",
    "capomulinFinalVolume = capomulin_df['Tumor Volume (mm3)']\n",
    "ramicaneFinalVolume = ramicane_df['Tumor Volume (mm3)']\n",
    "infubinolFinalVolume = infubinol_df['Tumor Volume (mm3)']\n",
    "ceftaminFinalVolume = ceftamin_df['Tumor Volume (mm3)']\n",
    "\n",
    "#Calculate the quartiles and IQR and \n",
    "#quantitatively determine if there are any potential outliers across all four treatment regimens.\n",
    "\n",
    "capomulinQuartiles = capomulinFinalVolume.quantile([0.25,0.5,0.75])\n",
    "capomulinLowerq = capomulinQuartiles[0.25]\n",
    "capomulinUpperq = capomulinQuartiles[0.75]\n",
    "capomulinIQR = capomulinUpperq - capomulinLowerq \n",
    "\n",
    "ramicaneQuartiles = ramicaneFinalVolume.quantile([0.25,0.5,0.75])\n",
    "ramicaneLowerq = ramicaneQuartiles[0.25]\n",
    "ramicaneUpperq = ramicaneQuartiles[0.75]\n",
    "ramicaneIQR = ramicaneUpperq - ramicaneLowerq \n",
    "\n",
    "infubinolQuartiles = infubinolFinalVolume.quantile([0.25,0.5,0.75])\n",
    "infubinolLowerq = infubinolQuartiles[0.25]\n",
    "infubinolUpperq = infubinolQuartiles[0.75]\n",
    "infubinolIQR = infubinolUpperq - infubinolLowerq \n",
    "\n",
    "ceftaminQuartiles = ceftaminFinalVolume.quantile([0.25,0.5,0.75])\n",
    "ceftaminLowerq = ceftaminQuartiles[0.25]\n",
    "ceftaminUpperq = ceftaminQuartiles[0.75]\n",
    "ceftaminIQR = ceftaminUpperq - ceftaminLowerq \n",
    "\n",
    "data = [capomulinFinalVolume, ramicaneFinalVolume, infubinolFinalVolume, ceftaminFinalVolume]\n",
    "#Using Matplotlib, generate a box and whisker plot of the final tumor volume for all four treatment regimens and \n",
    "#highlight any potential outliers in the plot by changing their color and style.\n",
    "fig, ax = plt.subplots()\n",
    "\n",
    "ax.boxplot(data)\n",
    "plt.show()\n",
    "\n"
   ]
  },
  {
   "cell_type": "code",
   "execution_count": 33,
   "id": "c1e95ede",
   "metadata": {},
   "outputs": [
    {
     "data": {
      "text/plain": [
       "Text(0.5, 1.0, 'Tumor Volume (mm3) vs. Timepoint for Capomulin Mouse s185')"
      ]
     },
     "execution_count": 33,
     "metadata": {},
     "output_type": "execute_result"
    },
    {
     "data": {
      "image/png": "[encoded data removed]",
      "text/plain": [
       "<Figure size 432x288 with 1 Axes>"
      ]
     },
     "metadata": {
      "needs_background": "light"
     },
     "output_type": "display_data"
    }
   ],
   "source": [
    "#Select a mouse that was treated with Capomulin and generate a line plot of tumor volume vs. time point for that mouse.\n",
    "capomulinMouse = df.loc[df[\"Mouse ID\"] == \"s185\"]\n",
    "x_axis = capomulinMouse[\"Timepoint\"]\n",
    "y_axis = capomulinMouse[\"Tumor Volume (mm3)\"]\n",
    "plt.plot(x_axis, y_axis)\n",
    "plt.xlabel(\"Timepoint\")\n",
    "plt.ylabel(\"Tumor Volume (mm3)\")\n",
    "plt.title(\"Tumor Volume (mm3) vs. Timepoint for Capomulin Mouse s185\")"
   ]
  },
  {
   "cell_type": "code",
   "execution_count": 12,
   "id": "79d34ea8",
   "metadata": {},
   "outputs": [],
   "source": [
    "#Generate a scatter plot of tumor volume versus mouse weight for the Capomulin treatment regimen."
   ]
  },
  {
   "cell_type": "code",
   "execution_count": 13,
   "id": "ec95e6d2",
   "metadata": {},
   "outputs": [],
   "source": [
    "#Calculate the correlation coefficient and linear regression model between mouse weight and \n",
    "#average tumor volume for the Capomulin treatment. Plot the linear regression model on top of the previous scatter plot."
   ]
  },
  {
   "cell_type": "code",
   "execution_count": 14,
   "id": "049689e4",
   "metadata": {},
   "outputs": [],
   "source": [
    "#Look across all previously generated figures and tables and write at least three observations or inferences \n",
    "#that can be made from the data. Include these observations at the top of notebook."
   ]
  }
 ],
 "metadata": {
  "kernelspec": {
   "display_name": "Python 3",
   "language": "python",
   "name": "python3"
  },
  "language_info": {
   "codemirror_mode": {
    "name": "ipython",
    "version": 3
   },
   "file_extension": ".py",
   "mimetype": "text/x-python",
   "name": "python",
   "nbconvert_exporter": "python",
   "pygments_lexer": "ipython3",
   "version": "3.6.10"
  }
 },
 "nbformat": 4,
 "nbformat_minor": 5
}
